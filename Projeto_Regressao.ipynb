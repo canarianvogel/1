{
  "nbformat": 4,
  "nbformat_minor": 0,
  "metadata": {
    "colab": {
      "provenance": [],
      "collapsed_sections": [
        "l-95Kbeao4BY",
        "ecYqQROLDTDt",
        "ydDWsaP8FmB5"
      ],
      "include_colab_link": true
    },
    "kernelspec": {
      "name": "python3",
      "display_name": "Python 3"
    },
    "language_info": {
      "name": "python"
    }
  },
  "cells": [
    {
      "cell_type": "markdown",
      "metadata": {
        "id": "view-in-github",
        "colab_type": "text"
      },
      "source": [
        "<a href=\"https://colab.research.google.com/github/canarianvogel/1/blob/main/Projeto_Regressao.ipynb\" target=\"_parent\"><img src=\"https://colab.research.google.com/assets/colab-badge.svg\" alt=\"Open In Colab\"/></a>"
      ]
    },
    {
      "cell_type": "markdown",
      "source": [
        "# Projeto de precificação do valor cobrado para entrega de esculturas\n",
        "\n",
        "![](https://github.com/Mirlaa/regressao-arvores/blob/main/imagens-projeto/imagem-do-projeto-inicio.png?raw=true)"
      ],
      "metadata": {
        "id": "nS-Yml8FoMzs"
      }
    },
    {
      "cell_type": "markdown",
      "source": [
        "# Aula 1 - Trabalhando com os dados"
      ],
      "metadata": {
        "id": "j9NZ9JM-8F08"
      }
    },
    {
      "cell_type": "code",
      "source": [
        "url = 'https://raw.githubusercontent.com/Mirlaa/regressao-arvores/main/dados_curso/entregas.csv'\n",
        "\n",
        "url_teste = 'https://raw.githubusercontent.com/Mirlaa/regressao-arvores/main/dados_curso/teste_entregas.csv'"
      ],
      "metadata": {
        "id": "ggLb5w4iPvmU"
      },
      "execution_count": 8,
      "outputs": []
    },
    {
      "cell_type": "code",
      "source": [
        "import pandas as pd\n",
        "import numpy as np"
      ],
      "metadata": {
        "id": "8IfeGv0REola"
      },
      "execution_count": 9,
      "outputs": []
    },
    {
      "cell_type": "code",
      "source": [
        "dados = pd.read_csv(url)\n",
        "dados"
      ],
      "metadata": {
        "id": "CWtRXwaQEofl",
        "colab": {
          "base_uri": "https://localhost:8080/",
          "height": 513
        },
        "outputId": "3ac89cbf-48ce-410a-92a5-a8405143407c"
      },
      "execution_count": 11,
      "outputs": [
        {
          "output_type": "execute_result",
          "data": {
            "text/plain": [
              "                                id_cliente    nome_artista  reputacao_artista  \\\n",
              "0     e9dff114-bc2b-47e9-9f5c-669e32ad9bbe   Billy Jenkins            0.26000   \n",
              "1     ba3b707f-b123-4eec-93f4-1fbebfe72b68     Jean Bryant            0.28000   \n",
              "2     c4212086-3e22-489e-bc2e-0d5092ef0526    Laura Miller            0.07000   \n",
              "3     fec1bee9-44cf-498f-a849-5e5e2cab062b  Robert Chaires            0.12000   \n",
              "4     f9f2ed8c-7f56-4e69-a80e-cb01d0a711da    Rosalyn Krol            0.15000   \n",
              "...                                    ...             ...                ...   \n",
              "4457  d692e37c-8047-468e-ba60-89b977158662     Phil Wilson            0.93000   \n",
              "4458  2671f714-e85d-46c9-a53a-7bca8d61a2cb   Berry Simmons            0.67000   \n",
              "4459  e1004685-9047-4f34-9103-57d900716936   William Curry            0.46185   \n",
              "4460  a380ff88-2c96-4d70-919a-af0bc8caeed7    Karen Bayles            0.45000   \n",
              "4461  26fea648-9cc1-4a2b-9458-0b2d35957803    Denise Worth            0.68000   \n",
              "\n",
              "      altura  largura         peso  material  preco_escultura  \\\n",
              "0     5.1816   1.8288  1872.427776     Latão          73027.5   \n",
              "1     0.9144   0.9144    27.669112     Latão          35857.5   \n",
              "2     2.4384   1.5240   107.501304    Argila          26040.0   \n",
              "3     2.7432   2.4384  1407.042384  Alumínio          30502.5   \n",
              "4     5.1816   1.8288   146.963808  Alumínio          16695.0   \n",
              "...      ...      ...          ...       ...              ...   \n",
              "4457  6.0960   2.4384   294.381208  Alumínio          25462.5   \n",
              "4458  3.9624   2.4384   215.456200  Alumínio          19162.5   \n",
              "4459  3.9624   2.4384    69.853168   Madeira          27982.5   \n",
              "4460  6.0960   8.5344  4921.926792  Alumínio         161857.5   \n",
              "4461  5.7912   2.4384   266.258504    Argila          36330.0   \n",
              "\n",
              "      preco_base_envio internacional envio_expresso instalacao_incluida  \\\n",
              "0              85.4175           Sim            Sim                 Não   \n",
              "1              78.7500           Não            Não                 Não   \n",
              "2             111.1950           Não            Não                 Não   \n",
              "3              85.6275           Não            Não                 Não   \n",
              "4              62.6850           Sim            Sim                 Sim   \n",
              "...                ...           ...            ...                 ...   \n",
              "4457          130.0950           Sim            Não                 Sim   \n",
              "4458           67.8825           Sim            Não                 Sim   \n",
              "4459           68.2500           Não            Sim                 Não   \n",
              "4460          355.4250           Não            Não                 Sim   \n",
              "4461           54.4950           Sim            Não                 Não   \n",
              "\n",
              "            transporte fragil pedido_extra_cliente localizacao_remota  \\\n",
              "0                Aéreo    Não                  Sim                Não   \n",
              "1           Rodoviário    Não                  Sim                Não   \n",
              "2           Rodoviário    Sim                  Sim                Sim   \n",
              "3     Não especificado    Não                  Não                Sim   \n",
              "4                Aéreo    Não                  Sim                Não   \n",
              "...                ...    ...                  ...                ...   \n",
              "4457        Aquaviário    Não                  Sim                Não   \n",
              "4458        Rodoviário    Não                  Sim                Não   \n",
              "4459             Aéreo    Não                  Não                Não   \n",
              "4460        Rodoviário    Não                  Sim                Não   \n",
              "4461  Não especificado    Sim                  Não                Não   \n",
              "\n",
              "     data_agendada data_entrega      custo  \n",
              "0         07/06/19     03/06/19  1487.2725  \n",
              "1         06/03/21     05/03/21   839.7900  \n",
              "2         09/03/19     08/03/19   810.0225  \n",
              "3         24/05/19     20/05/19   846.0900  \n",
              "4         18/12/20     14/12/20   835.9575  \n",
              "...            ...          ...        ...  \n",
              "4457      23/03/19     27/03/19  3923.9550  \n",
              "4458      28/10/22     27/10/22  1546.7550  \n",
              "4459      16/03/21     16/03/21   916.4925  \n",
              "4460      19/04/20     21/04/20  5653.4625  \n",
              "4461      10/04/23     09/04/23  1861.3875  \n",
              "\n",
              "[4462 rows x 19 columns]"
            ],
            "text/html": [
              "\n",
              "  <div id=\"df-332b4a08-42fa-43cc-bc67-0387eb7be4de\" class=\"colab-df-container\">\n",
              "    <div>\n",
              "<style scoped>\n",
              "    .dataframe tbody tr th:only-of-type {\n",
              "        vertical-align: middle;\n",
              "    }\n",
              "\n",
              "    .dataframe tbody tr th {\n",
              "        vertical-align: top;\n",
              "    }\n",
              "\n",
              "    .dataframe thead th {\n",
              "        text-align: right;\n",
              "    }\n",
              "</style>\n",
              "<table border=\"1\" class=\"dataframe\">\n",
              "  <thead>\n",
              "    <tr style=\"text-align: right;\">\n",
              "      <th></th>\n",
              "      <th>id_cliente</th>\n",
              "      <th>nome_artista</th>\n",
              "      <th>reputacao_artista</th>\n",
              "      <th>altura</th>\n",
              "      <th>largura</th>\n",
              "      <th>peso</th>\n",
              "      <th>material</th>\n",
              "      <th>preco_escultura</th>\n",
              "      <th>preco_base_envio</th>\n",
              "      <th>internacional</th>\n",
              "      <th>envio_expresso</th>\n",
              "      <th>instalacao_incluida</th>\n",
              "      <th>transporte</th>\n",
              "      <th>fragil</th>\n",
              "      <th>pedido_extra_cliente</th>\n",
              "      <th>localizacao_remota</th>\n",
              "      <th>data_agendada</th>\n",
              "      <th>data_entrega</th>\n",
              "      <th>custo</th>\n",
              "    </tr>\n",
              "  </thead>\n",
              "  <tbody>\n",
              "    <tr>\n",
              "      <th>0</th>\n",
              "      <td>e9dff114-bc2b-47e9-9f5c-669e32ad9bbe</td>\n",
              "      <td>Billy Jenkins</td>\n",
              "      <td>0.26000</td>\n",
              "      <td>5.1816</td>\n",
              "      <td>1.8288</td>\n",
              "      <td>1872.427776</td>\n",
              "      <td>Latão</td>\n",
              "      <td>73027.5</td>\n",
              "      <td>85.4175</td>\n",
              "      <td>Sim</td>\n",
              "      <td>Sim</td>\n",
              "      <td>Não</td>\n",
              "      <td>Aéreo</td>\n",
              "      <td>Não</td>\n",
              "      <td>Sim</td>\n",
              "      <td>Não</td>\n",
              "      <td>07/06/19</td>\n",
              "      <td>03/06/19</td>\n",
              "      <td>1487.2725</td>\n",
              "    </tr>\n",
              "    <tr>\n",
              "      <th>1</th>\n",
              "      <td>ba3b707f-b123-4eec-93f4-1fbebfe72b68</td>\n",
              "      <td>Jean Bryant</td>\n",
              "      <td>0.28000</td>\n",
              "      <td>0.9144</td>\n",
              "      <td>0.9144</td>\n",
              "      <td>27.669112</td>\n",
              "      <td>Latão</td>\n",
              "      <td>35857.5</td>\n",
              "      <td>78.7500</td>\n",
              "      <td>Não</td>\n",
              "      <td>Não</td>\n",
              "      <td>Não</td>\n",
              "      <td>Rodoviário</td>\n",
              "      <td>Não</td>\n",
              "      <td>Sim</td>\n",
              "      <td>Não</td>\n",
              "      <td>06/03/21</td>\n",
              "      <td>05/03/21</td>\n",
              "      <td>839.7900</td>\n",
              "    </tr>\n",
              "    <tr>\n",
              "      <th>2</th>\n",
              "      <td>c4212086-3e22-489e-bc2e-0d5092ef0526</td>\n",
              "      <td>Laura Miller</td>\n",
              "      <td>0.07000</td>\n",
              "      <td>2.4384</td>\n",
              "      <td>1.5240</td>\n",
              "      <td>107.501304</td>\n",
              "      <td>Argila</td>\n",
              "      <td>26040.0</td>\n",
              "      <td>111.1950</td>\n",
              "      <td>Não</td>\n",
              "      <td>Não</td>\n",
              "      <td>Não</td>\n",
              "      <td>Rodoviário</td>\n",
              "      <td>Sim</td>\n",
              "      <td>Sim</td>\n",
              "      <td>Sim</td>\n",
              "      <td>09/03/19</td>\n",
              "      <td>08/03/19</td>\n",
              "      <td>810.0225</td>\n",
              "    </tr>\n",
              "    <tr>\n",
              "      <th>3</th>\n",
              "      <td>fec1bee9-44cf-498f-a849-5e5e2cab062b</td>\n",
              "      <td>Robert Chaires</td>\n",
              "      <td>0.12000</td>\n",
              "      <td>2.7432</td>\n",
              "      <td>2.4384</td>\n",
              "      <td>1407.042384</td>\n",
              "      <td>Alumínio</td>\n",
              "      <td>30502.5</td>\n",
              "      <td>85.6275</td>\n",
              "      <td>Não</td>\n",
              "      <td>Não</td>\n",
              "      <td>Não</td>\n",
              "      <td>Não especificado</td>\n",
              "      <td>Não</td>\n",
              "      <td>Não</td>\n",
              "      <td>Sim</td>\n",
              "      <td>24/05/19</td>\n",
              "      <td>20/05/19</td>\n",
              "      <td>846.0900</td>\n",
              "    </tr>\n",
              "    <tr>\n",
              "      <th>4</th>\n",
              "      <td>f9f2ed8c-7f56-4e69-a80e-cb01d0a711da</td>\n",
              "      <td>Rosalyn Krol</td>\n",
              "      <td>0.15000</td>\n",
              "      <td>5.1816</td>\n",
              "      <td>1.8288</td>\n",
              "      <td>146.963808</td>\n",
              "      <td>Alumínio</td>\n",
              "      <td>16695.0</td>\n",
              "      <td>62.6850</td>\n",
              "      <td>Sim</td>\n",
              "      <td>Sim</td>\n",
              "      <td>Sim</td>\n",
              "      <td>Aéreo</td>\n",
              "      <td>Não</td>\n",
              "      <td>Sim</td>\n",
              "      <td>Não</td>\n",
              "      <td>18/12/20</td>\n",
              "      <td>14/12/20</td>\n",
              "      <td>835.9575</td>\n",
              "    </tr>\n",
              "    <tr>\n",
              "      <th>...</th>\n",
              "      <td>...</td>\n",
              "      <td>...</td>\n",
              "      <td>...</td>\n",
              "      <td>...</td>\n",
              "      <td>...</td>\n",
              "      <td>...</td>\n",
              "      <td>...</td>\n",
              "      <td>...</td>\n",
              "      <td>...</td>\n",
              "      <td>...</td>\n",
              "      <td>...</td>\n",
              "      <td>...</td>\n",
              "      <td>...</td>\n",
              "      <td>...</td>\n",
              "      <td>...</td>\n",
              "      <td>...</td>\n",
              "      <td>...</td>\n",
              "      <td>...</td>\n",
              "      <td>...</td>\n",
              "    </tr>\n",
              "    <tr>\n",
              "      <th>4457</th>\n",
              "      <td>d692e37c-8047-468e-ba60-89b977158662</td>\n",
              "      <td>Phil Wilson</td>\n",
              "      <td>0.93000</td>\n",
              "      <td>6.0960</td>\n",
              "      <td>2.4384</td>\n",
              "      <td>294.381208</td>\n",
              "      <td>Alumínio</td>\n",
              "      <td>25462.5</td>\n",
              "      <td>130.0950</td>\n",
              "      <td>Sim</td>\n",
              "      <td>Não</td>\n",
              "      <td>Sim</td>\n",
              "      <td>Aquaviário</td>\n",
              "      <td>Não</td>\n",
              "      <td>Sim</td>\n",
              "      <td>Não</td>\n",
              "      <td>23/03/19</td>\n",
              "      <td>27/03/19</td>\n",
              "      <td>3923.9550</td>\n",
              "    </tr>\n",
              "    <tr>\n",
              "      <th>4458</th>\n",
              "      <td>2671f714-e85d-46c9-a53a-7bca8d61a2cb</td>\n",
              "      <td>Berry Simmons</td>\n",
              "      <td>0.67000</td>\n",
              "      <td>3.9624</td>\n",
              "      <td>2.4384</td>\n",
              "      <td>215.456200</td>\n",
              "      <td>Alumínio</td>\n",
              "      <td>19162.5</td>\n",
              "      <td>67.8825</td>\n",
              "      <td>Sim</td>\n",
              "      <td>Não</td>\n",
              "      <td>Sim</td>\n",
              "      <td>Rodoviário</td>\n",
              "      <td>Não</td>\n",
              "      <td>Sim</td>\n",
              "      <td>Não</td>\n",
              "      <td>28/10/22</td>\n",
              "      <td>27/10/22</td>\n",
              "      <td>1546.7550</td>\n",
              "    </tr>\n",
              "    <tr>\n",
              "      <th>4459</th>\n",
              "      <td>e1004685-9047-4f34-9103-57d900716936</td>\n",
              "      <td>William Curry</td>\n",
              "      <td>0.46185</td>\n",
              "      <td>3.9624</td>\n",
              "      <td>2.4384</td>\n",
              "      <td>69.853168</td>\n",
              "      <td>Madeira</td>\n",
              "      <td>27982.5</td>\n",
              "      <td>68.2500</td>\n",
              "      <td>Não</td>\n",
              "      <td>Sim</td>\n",
              "      <td>Não</td>\n",
              "      <td>Aéreo</td>\n",
              "      <td>Não</td>\n",
              "      <td>Não</td>\n",
              "      <td>Não</td>\n",
              "      <td>16/03/21</td>\n",
              "      <td>16/03/21</td>\n",
              "      <td>916.4925</td>\n",
              "    </tr>\n",
              "    <tr>\n",
              "      <th>4460</th>\n",
              "      <td>a380ff88-2c96-4d70-919a-af0bc8caeed7</td>\n",
              "      <td>Karen Bayles</td>\n",
              "      <td>0.45000</td>\n",
              "      <td>6.0960</td>\n",
              "      <td>8.5344</td>\n",
              "      <td>4921.926792</td>\n",
              "      <td>Alumínio</td>\n",
              "      <td>161857.5</td>\n",
              "      <td>355.4250</td>\n",
              "      <td>Não</td>\n",
              "      <td>Não</td>\n",
              "      <td>Sim</td>\n",
              "      <td>Rodoviário</td>\n",
              "      <td>Não</td>\n",
              "      <td>Sim</td>\n",
              "      <td>Não</td>\n",
              "      <td>19/04/20</td>\n",
              "      <td>21/04/20</td>\n",
              "      <td>5653.4625</td>\n",
              "    </tr>\n",
              "    <tr>\n",
              "      <th>4461</th>\n",
              "      <td>26fea648-9cc1-4a2b-9458-0b2d35957803</td>\n",
              "      <td>Denise Worth</td>\n",
              "      <td>0.68000</td>\n",
              "      <td>5.7912</td>\n",
              "      <td>2.4384</td>\n",
              "      <td>266.258504</td>\n",
              "      <td>Argila</td>\n",
              "      <td>36330.0</td>\n",
              "      <td>54.4950</td>\n",
              "      <td>Sim</td>\n",
              "      <td>Não</td>\n",
              "      <td>Não</td>\n",
              "      <td>Não especificado</td>\n",
              "      <td>Sim</td>\n",
              "      <td>Não</td>\n",
              "      <td>Não</td>\n",
              "      <td>10/04/23</td>\n",
              "      <td>09/04/23</td>\n",
              "      <td>1861.3875</td>\n",
              "    </tr>\n",
              "  </tbody>\n",
              "</table>\n",
              "<p>4462 rows × 19 columns</p>\n",
              "</div>\n",
              "    <div class=\"colab-df-buttons\">\n",
              "\n",
              "  <div class=\"colab-df-container\">\n",
              "    <button class=\"colab-df-convert\" onclick=\"convertToInteractive('df-332b4a08-42fa-43cc-bc67-0387eb7be4de')\"\n",
              "            title=\"Convert this dataframe to an interactive table.\"\n",
              "            style=\"display:none;\">\n",
              "\n",
              "  <svg xmlns=\"http://www.w3.org/2000/svg\" height=\"24px\" viewBox=\"0 -960 960 960\">\n",
              "    <path d=\"M120-120v-720h720v720H120Zm60-500h600v-160H180v160Zm220 220h160v-160H400v160Zm0 220h160v-160H400v160ZM180-400h160v-160H180v160Zm440 0h160v-160H620v160ZM180-180h160v-160H180v160Zm440 0h160v-160H620v160Z\"/>\n",
              "  </svg>\n",
              "    </button>\n",
              "\n",
              "  <style>\n",
              "    .colab-df-container {\n",
              "      display:flex;\n",
              "      gap: 12px;\n",
              "    }\n",
              "\n",
              "    .colab-df-convert {\n",
              "      background-color: #E8F0FE;\n",
              "      border: none;\n",
              "      border-radius: 50%;\n",
              "      cursor: pointer;\n",
              "      display: none;\n",
              "      fill: #1967D2;\n",
              "      height: 32px;\n",
              "      padding: 0 0 0 0;\n",
              "      width: 32px;\n",
              "    }\n",
              "\n",
              "    .colab-df-convert:hover {\n",
              "      background-color: #E2EBFA;\n",
              "      box-shadow: 0px 1px 2px rgba(60, 64, 67, 0.3), 0px 1px 3px 1px rgba(60, 64, 67, 0.15);\n",
              "      fill: #174EA6;\n",
              "    }\n",
              "\n",
              "    .colab-df-buttons div {\n",
              "      margin-bottom: 4px;\n",
              "    }\n",
              "\n",
              "    [theme=dark] .colab-df-convert {\n",
              "      background-color: #3B4455;\n",
              "      fill: #D2E3FC;\n",
              "    }\n",
              "\n",
              "    [theme=dark] .colab-df-convert:hover {\n",
              "      background-color: #434B5C;\n",
              "      box-shadow: 0px 1px 3px 1px rgba(0, 0, 0, 0.15);\n",
              "      filter: drop-shadow(0px 1px 2px rgba(0, 0, 0, 0.3));\n",
              "      fill: #FFFFFF;\n",
              "    }\n",
              "  </style>\n",
              "\n",
              "    <script>\n",
              "      const buttonEl =\n",
              "        document.querySelector('#df-332b4a08-42fa-43cc-bc67-0387eb7be4de button.colab-df-convert');\n",
              "      buttonEl.style.display =\n",
              "        google.colab.kernel.accessAllowed ? 'block' : 'none';\n",
              "\n",
              "      async function convertToInteractive(key) {\n",
              "        const element = document.querySelector('#df-332b4a08-42fa-43cc-bc67-0387eb7be4de');\n",
              "        const dataTable =\n",
              "          await google.colab.kernel.invokeFunction('convertToInteractive',\n",
              "                                                    [key], {});\n",
              "        if (!dataTable) return;\n",
              "\n",
              "        const docLinkHtml = 'Like what you see? Visit the ' +\n",
              "          '<a target=\"_blank\" href=https://colab.research.google.com/notebooks/data_table.ipynb>data table notebook</a>'\n",
              "          + ' to learn more about interactive tables.';\n",
              "        element.innerHTML = '';\n",
              "        dataTable['output_type'] = 'display_data';\n",
              "        await google.colab.output.renderOutput(dataTable, element);\n",
              "        const docLink = document.createElement('div');\n",
              "        docLink.innerHTML = docLinkHtml;\n",
              "        element.appendChild(docLink);\n",
              "      }\n",
              "    </script>\n",
              "  </div>\n",
              "\n",
              "\n",
              "<div id=\"df-a72befe9-21f6-4401-a677-8a8a8ffdcf51\">\n",
              "  <button class=\"colab-df-quickchart\" onclick=\"quickchart('df-a72befe9-21f6-4401-a677-8a8a8ffdcf51')\"\n",
              "            title=\"Suggest charts\"\n",
              "            style=\"display:none;\">\n",
              "\n",
              "<svg xmlns=\"http://www.w3.org/2000/svg\" height=\"24px\"viewBox=\"0 0 24 24\"\n",
              "     width=\"24px\">\n",
              "    <g>\n",
              "        <path d=\"M19 3H5c-1.1 0-2 .9-2 2v14c0 1.1.9 2 2 2h14c1.1 0 2-.9 2-2V5c0-1.1-.9-2-2-2zM9 17H7v-7h2v7zm4 0h-2V7h2v10zm4 0h-2v-4h2v4z\"/>\n",
              "    </g>\n",
              "</svg>\n",
              "  </button>\n",
              "\n",
              "<style>\n",
              "  .colab-df-quickchart {\n",
              "      --bg-color: #E8F0FE;\n",
              "      --fill-color: #1967D2;\n",
              "      --hover-bg-color: #E2EBFA;\n",
              "      --hover-fill-color: #174EA6;\n",
              "      --disabled-fill-color: #AAA;\n",
              "      --disabled-bg-color: #DDD;\n",
              "  }\n",
              "\n",
              "  [theme=dark] .colab-df-quickchart {\n",
              "      --bg-color: #3B4455;\n",
              "      --fill-color: #D2E3FC;\n",
              "      --hover-bg-color: #434B5C;\n",
              "      --hover-fill-color: #FFFFFF;\n",
              "      --disabled-bg-color: #3B4455;\n",
              "      --disabled-fill-color: #666;\n",
              "  }\n",
              "\n",
              "  .colab-df-quickchart {\n",
              "    background-color: var(--bg-color);\n",
              "    border: none;\n",
              "    border-radius: 50%;\n",
              "    cursor: pointer;\n",
              "    display: none;\n",
              "    fill: var(--fill-color);\n",
              "    height: 32px;\n",
              "    padding: 0;\n",
              "    width: 32px;\n",
              "  }\n",
              "\n",
              "  .colab-df-quickchart:hover {\n",
              "    background-color: var(--hover-bg-color);\n",
              "    box-shadow: 0 1px 2px rgba(60, 64, 67, 0.3), 0 1px 3px 1px rgba(60, 64, 67, 0.15);\n",
              "    fill: var(--button-hover-fill-color);\n",
              "  }\n",
              "\n",
              "  .colab-df-quickchart-complete:disabled,\n",
              "  .colab-df-quickchart-complete:disabled:hover {\n",
              "    background-color: var(--disabled-bg-color);\n",
              "    fill: var(--disabled-fill-color);\n",
              "    box-shadow: none;\n",
              "  }\n",
              "\n",
              "  .colab-df-spinner {\n",
              "    border: 2px solid var(--fill-color);\n",
              "    border-color: transparent;\n",
              "    border-bottom-color: var(--fill-color);\n",
              "    animation:\n",
              "      spin 1s steps(1) infinite;\n",
              "  }\n",
              "\n",
              "  @keyframes spin {\n",
              "    0% {\n",
              "      border-color: transparent;\n",
              "      border-bottom-color: var(--fill-color);\n",
              "      border-left-color: var(--fill-color);\n",
              "    }\n",
              "    20% {\n",
              "      border-color: transparent;\n",
              "      border-left-color: var(--fill-color);\n",
              "      border-top-color: var(--fill-color);\n",
              "    }\n",
              "    30% {\n",
              "      border-color: transparent;\n",
              "      border-left-color: var(--fill-color);\n",
              "      border-top-color: var(--fill-color);\n",
              "      border-right-color: var(--fill-color);\n",
              "    }\n",
              "    40% {\n",
              "      border-color: transparent;\n",
              "      border-right-color: var(--fill-color);\n",
              "      border-top-color: var(--fill-color);\n",
              "    }\n",
              "    60% {\n",
              "      border-color: transparent;\n",
              "      border-right-color: var(--fill-color);\n",
              "    }\n",
              "    80% {\n",
              "      border-color: transparent;\n",
              "      border-right-color: var(--fill-color);\n",
              "      border-bottom-color: var(--fill-color);\n",
              "    }\n",
              "    90% {\n",
              "      border-color: transparent;\n",
              "      border-bottom-color: var(--fill-color);\n",
              "    }\n",
              "  }\n",
              "</style>\n",
              "\n",
              "  <script>\n",
              "    async function quickchart(key) {\n",
              "      const quickchartButtonEl =\n",
              "        document.querySelector('#' + key + ' button');\n",
              "      quickchartButtonEl.disabled = true;  // To prevent multiple clicks.\n",
              "      quickchartButtonEl.classList.add('colab-df-spinner');\n",
              "      try {\n",
              "        const charts = await google.colab.kernel.invokeFunction(\n",
              "            'suggestCharts', [key], {});\n",
              "      } catch (error) {\n",
              "        console.error('Error during call to suggestCharts:', error);\n",
              "      }\n",
              "      quickchartButtonEl.classList.remove('colab-df-spinner');\n",
              "      quickchartButtonEl.classList.add('colab-df-quickchart-complete');\n",
              "    }\n",
              "    (() => {\n",
              "      let quickchartButtonEl =\n",
              "        document.querySelector('#df-a72befe9-21f6-4401-a677-8a8a8ffdcf51 button');\n",
              "      quickchartButtonEl.style.display =\n",
              "        google.colab.kernel.accessAllowed ? 'block' : 'none';\n",
              "    })();\n",
              "  </script>\n",
              "</div>\n",
              "\n",
              "  <div id=\"id_8c3edbd2-6515-4c87-93a4-1016b062d0a6\">\n",
              "    <style>\n",
              "      .colab-df-generate {\n",
              "        background-color: #E8F0FE;\n",
              "        border: none;\n",
              "        border-radius: 50%;\n",
              "        cursor: pointer;\n",
              "        display: none;\n",
              "        fill: #1967D2;\n",
              "        height: 32px;\n",
              "        padding: 0 0 0 0;\n",
              "        width: 32px;\n",
              "      }\n",
              "\n",
              "      .colab-df-generate:hover {\n",
              "        background-color: #E2EBFA;\n",
              "        box-shadow: 0px 1px 2px rgba(60, 64, 67, 0.3), 0px 1px 3px 1px rgba(60, 64, 67, 0.15);\n",
              "        fill: #174EA6;\n",
              "      }\n",
              "\n",
              "      [theme=dark] .colab-df-generate {\n",
              "        background-color: #3B4455;\n",
              "        fill: #D2E3FC;\n",
              "      }\n",
              "\n",
              "      [theme=dark] .colab-df-generate:hover {\n",
              "        background-color: #434B5C;\n",
              "        box-shadow: 0px 1px 3px 1px rgba(0, 0, 0, 0.15);\n",
              "        filter: drop-shadow(0px 1px 2px rgba(0, 0, 0, 0.3));\n",
              "        fill: #FFFFFF;\n",
              "      }\n",
              "    </style>\n",
              "    <button class=\"colab-df-generate\" onclick=\"generateWithVariable('dados')\"\n",
              "            title=\"Generate code using this dataframe.\"\n",
              "            style=\"display:none;\">\n",
              "\n",
              "  <svg xmlns=\"http://www.w3.org/2000/svg\" height=\"24px\"viewBox=\"0 0 24 24\"\n",
              "       width=\"24px\">\n",
              "    <path d=\"M7,19H8.4L18.45,9,17,7.55,7,17.6ZM5,21V16.75L18.45,3.32a2,2,0,0,1,2.83,0l1.4,1.43a1.91,1.91,0,0,1,.58,1.4,1.91,1.91,0,0,1-.58,1.4L9.25,21ZM18.45,9,17,7.55Zm-12,3A5.31,5.31,0,0,0,4.9,8.1,5.31,5.31,0,0,0,1,6.5,5.31,5.31,0,0,0,4.9,4.9,5.31,5.31,0,0,0,6.5,1,5.31,5.31,0,0,0,8.1,4.9,5.31,5.31,0,0,0,12,6.5,5.46,5.46,0,0,0,6.5,12Z\"/>\n",
              "  </svg>\n",
              "    </button>\n",
              "    <script>\n",
              "      (() => {\n",
              "      const buttonEl =\n",
              "        document.querySelector('#id_8c3edbd2-6515-4c87-93a4-1016b062d0a6 button.colab-df-generate');\n",
              "      buttonEl.style.display =\n",
              "        google.colab.kernel.accessAllowed ? 'block' : 'none';\n",
              "\n",
              "      buttonEl.onclick = () => {\n",
              "        google.colab.notebook.generateWithVariable('dados');\n",
              "      }\n",
              "      })();\n",
              "    </script>\n",
              "  </div>\n",
              "\n",
              "    </div>\n",
              "  </div>\n"
            ],
            "application/vnd.google.colaboratory.intrinsic+json": {
              "type": "dataframe",
              "variable_name": "dados",
              "summary": "{\n  \"name\": \"dados\",\n  \"rows\": 4462,\n  \"fields\": [\n    {\n      \"column\": \"id_cliente\",\n      \"properties\": {\n        \"dtype\": \"string\",\n        \"num_unique_values\": 4462,\n        \"samples\": [\n          \"6ada05e1-4faa-4477-a653-ccfc2c06c630\",\n          \"283248ce-0e13-4af8-bdd6-f833416969ee\",\n          \"78f269da-7c63-4804-9b0f-cb168fa126b1\"\n        ],\n        \"semantic_type\": \"\",\n        \"description\": \"\"\n      }\n    },\n    {\n      \"column\": \"nome_artista\",\n      \"properties\": {\n        \"dtype\": \"string\",\n        \"num_unique_values\": 4441,\n        \"samples\": [\n          \"Priscilla Hance\",\n          \"Lana Stembridge\",\n          \"Jeremy Griffin\"\n        ],\n        \"semantic_type\": \"\",\n        \"description\": \"\"\n      }\n    },\n    {\n      \"column\": \"reputacao_artista\",\n      \"properties\": {\n        \"dtype\": \"number\",\n        \"std\": 0.24995170591843807,\n        \"min\": 0.0,\n        \"max\": 1.0,\n        \"num_unique_values\": 102,\n        \"samples\": [\n          0.29,\n          0.35,\n          0.76\n        ],\n        \"semantic_type\": \"\",\n        \"description\": \"\"\n      }\n    },\n    {\n      \"column\": \"altura\",\n      \"properties\": {\n        \"dtype\": \"number\",\n        \"std\": 3.3100702551417234,\n        \"min\": 0.9144,\n        \"max\": 22.250400000000003,\n        \"num_unique_values\": 60,\n        \"samples\": [\n          5.1816,\n          7.010400000000001,\n          1.524\n        ],\n        \"semantic_type\": \"\",\n        \"description\": \"\"\n      }\n    },\n    {\n      \"column\": \"largura\",\n      \"properties\": {\n        \"dtype\": \"number\",\n        \"std\": 1.3162309101385214,\n        \"min\": 0.6096,\n        \"max\": 11.2776,\n        \"num_unique_values\": 33,\n        \"samples\": [\n          11.2776,\n          3.3528,\n          6.7056\n        ],\n        \"semantic_type\": \"\",\n        \"description\": \"\"\n      }\n    },\n    {\n      \"column\": \"peso\",\n      \"properties\": {\n        \"dtype\": \"number\",\n        \"std\": 1425.6470070973007,\n        \"min\": 1.360776,\n        \"max\": 6897.319952,\n        \"num_unique_values\": 2496,\n        \"samples\": [\n          608.720464,\n          143.335072,\n          437.262688\n        ],\n        \"semantic_type\": \"\",\n        \"description\": \"\"\n      }\n    },\n    {\n      \"column\": \"material\",\n      \"properties\": {\n        \"dtype\": \"category\",\n        \"num_unique_values\": 8,\n        \"samples\": [\n          \"Argila\",\n          \"Pedra\",\n          \"Lat\\u00e3o\"\n        ],\n        \"semantic_type\": \"\",\n        \"description\": \"\"\n      }\n    },\n    {\n      \"column\": \"preco_escultura\",\n      \"properties\": {\n        \"dtype\": \"number\",\n        \"std\": 80086.39148249968,\n        \"min\": 15750.0,\n        \"max\": 850237.5,\n        \"num_unique_values\": 1450,\n        \"samples\": [\n          36645.0,\n          41790.0,\n          137025.0\n        ],\n        \"semantic_type\": \"\",\n        \"description\": \"\"\n      }\n    },\n    {\n      \"column\": \"preco_base_envio\",\n      \"properties\": {\n        \"dtype\": \"number\",\n        \"std\": 105.58444468685028,\n        \"min\": 52.5,\n        \"max\": 524.895,\n        \"num_unique_values\": 2159,\n        \"samples\": [\n          344.8725,\n          249.48,\n          100.275\n        ],\n        \"semantic_type\": \"\",\n        \"description\": \"\"\n      }\n    },\n    {\n      \"column\": \"internacional\",\n      \"properties\": {\n        \"dtype\": \"category\",\n        \"num_unique_values\": 2,\n        \"samples\": [\n          \"N\\u00e3o\",\n          \"Sim\"\n        ],\n        \"semantic_type\": \"\",\n        \"description\": \"\"\n      }\n    },\n    {\n      \"column\": \"envio_expresso\",\n      \"properties\": {\n        \"dtype\": \"category\",\n        \"num_unique_values\": 2,\n        \"samples\": [\n          \"N\\u00e3o\",\n          \"Sim\"\n        ],\n        \"semantic_type\": \"\",\n        \"description\": \"\"\n      }\n    },\n    {\n      \"column\": \"instalacao_incluida\",\n      \"properties\": {\n        \"dtype\": \"category\",\n        \"num_unique_values\": 2,\n        \"samples\": [\n          \"Sim\",\n          \"N\\u00e3o\"\n        ],\n        \"semantic_type\": \"\",\n        \"description\": \"\"\n      }\n    },\n    {\n      \"column\": \"transporte\",\n      \"properties\": {\n        \"dtype\": \"category\",\n        \"num_unique_values\": 4,\n        \"samples\": [\n          \"Rodovi\\u00e1rio\",\n          \"Aquavi\\u00e1rio\"\n        ],\n        \"semantic_type\": \"\",\n        \"description\": \"\"\n      }\n    },\n    {\n      \"column\": \"fragil\",\n      \"properties\": {\n        \"dtype\": \"category\",\n        \"num_unique_values\": 2,\n        \"samples\": [\n          \"Sim\",\n          \"N\\u00e3o\"\n        ],\n        \"semantic_type\": \"\",\n        \"description\": \"\"\n      }\n    },\n    {\n      \"column\": \"pedido_extra_cliente\",\n      \"properties\": {\n        \"dtype\": \"category\",\n        \"num_unique_values\": 2,\n        \"samples\": [\n          \"N\\u00e3o\",\n          \"Sim\"\n        ],\n        \"semantic_type\": \"\",\n        \"description\": \"\"\n      }\n    },\n    {\n      \"column\": \"localizacao_remota\",\n      \"properties\": {\n        \"dtype\": \"category\",\n        \"num_unique_values\": 2,\n        \"samples\": [\n          \"Sim\",\n          \"N\\u00e3o\"\n        ],\n        \"semantic_type\": \"\",\n        \"description\": \"\"\n      }\n    },\n    {\n      \"column\": \"data_agendada\",\n      \"properties\": {\n        \"dtype\": \"object\",\n        \"num_unique_values\": 1580,\n        \"samples\": [\n          \"19/04/19\",\n          \"17/06/19\"\n        ],\n        \"semantic_type\": \"\",\n        \"description\": \"\"\n      }\n    },\n    {\n      \"column\": \"data_entrega\",\n      \"properties\": {\n        \"dtype\": \"object\",\n        \"num_unique_values\": 1586,\n        \"samples\": [\n          \"04/08/19\",\n          \"25/05/21\"\n        ],\n        \"semantic_type\": \"\",\n        \"description\": \"\"\n      }\n    },\n    {\n      \"column\": \"custo\",\n      \"properties\": {\n        \"dtype\": \"number\",\n        \"std\": 2714.8213234474706,\n        \"min\": 451.8675,\n        \"max\": 24783.9375,\n        \"num_unique_values\": 4290,\n        \"samples\": [\n          764.2425,\n          989.8875\n        ],\n        \"semantic_type\": \"\",\n        \"description\": \"\"\n      }\n    }\n  ]\n}"
            }
          },
          "metadata": {},
          "execution_count": 11
        }
      ]
    },
    {
      "cell_type": "markdown",
      "source": [
        "Dicionário de dados:\n",
        "\n",
        "| Nome da Coluna       | Descrição                                                      |\n",
        "|----------------------|----------------------------------------------------------------|\n",
        "| id_cliente        | Representa o número de identificação único dos clientes        |\n",
        "| nome_artista      | Representa o nome do artista                                   |\n",
        "| reputacao_artista | Representa a reputação de um artista no mercado (quanto maior o valor da reputação, maior a reputação do artista no mercado) |\n",
        "| altura               | Representa a altura da escultura em metros                     |\n",
        "| largura              | Representa a largura da escultura em metros                     |\n",
        "| peso                 | Representa o peso da escultura em quilos                       |\n",
        "| material             | Representa o material do qual a escultura é feita              |\n",
        "| preco_escultura   | Representa o preço da escultura         |\n",
        "| preco_base_envio  | Representa o preço base para o envio de uma escultura          |\n",
        "| internacional        | Indica se o envio é internacional                              |\n",
        "| envio_expresso       | Indica se o envio foi no modo expresso (rápido)    |\n",
        "| instalacao_incluida  | Indica se a instalação estava incluída na compra da escultura  |\n",
        "| transporte           | Representa o modo de transporte do pedido                      |\n",
        "| fragil               | Indica se o pedido é frágil                                    |\n",
        "| pedido_extra_cliente | Representa se o cliente deixou detalhes a mais para entrega     |\n",
        "| data_agendada        | Representa a data de previsão de entrega        |\n",
        "| data_entrega      | Representa a data de entrega do pedido          |\n",
        "| custo                | Representa o custo do envio do pedido      |"
      ],
      "metadata": {
        "id": "xeqr9KoQ-Vz8"
      }
    },
    {
      "cell_type": "code",
      "source": [
        "dados.info()"
      ],
      "metadata": {
        "id": "w7Bk90u9EoYt",
        "colab": {
          "base_uri": "https://localhost:8080/"
        },
        "outputId": "e5f1dd2b-209a-4da3-dbbe-77af55a59908"
      },
      "execution_count": 12,
      "outputs": [
        {
          "output_type": "stream",
          "name": "stdout",
          "text": [
            "<class 'pandas.core.frame.DataFrame'>\n",
            "RangeIndex: 4462 entries, 0 to 4461\n",
            "Data columns (total 19 columns):\n",
            " #   Column                Non-Null Count  Dtype  \n",
            "---  ------                --------------  -----  \n",
            " 0   id_cliente            4462 non-null   object \n",
            " 1   nome_artista          4462 non-null   object \n",
            " 2   reputacao_artista     4462 non-null   float64\n",
            " 3   altura                4462 non-null   float64\n",
            " 4   largura               4462 non-null   float64\n",
            " 5   peso                  4462 non-null   float64\n",
            " 6   material              4462 non-null   object \n",
            " 7   preco_escultura       4462 non-null   float64\n",
            " 8   preco_base_envio      4462 non-null   float64\n",
            " 9   internacional         4462 non-null   object \n",
            " 10  envio_expresso        4462 non-null   object \n",
            " 11  instalacao_incluida   4462 non-null   object \n",
            " 12  transporte            4462 non-null   object \n",
            " 13  fragil                4462 non-null   object \n",
            " 14  pedido_extra_cliente  4462 non-null   object \n",
            " 15  localizacao_remota    4462 non-null   object \n",
            " 16  data_agendada         4462 non-null   object \n",
            " 17  data_entrega          4462 non-null   object \n",
            " 18  custo                 4462 non-null   float64\n",
            "dtypes: float64(7), object(12)\n",
            "memory usage: 662.5+ KB\n"
          ]
        }
      ]
    },
    {
      "cell_type": "markdown",
      "source": [
        "**ENTENDENDO AS COLUNAS**\n",
        "\n",
        "**Dado numérico:**\n",
        "- `'reputacao_artista'`, `'altura'`, `'largura'`, `'peso'`, `'preco_escultura'`, `'preco_base_envio'`.\n",
        "\n",
        "**Categóricas:**\n",
        "\n",
        "- `'id_cliente'`, `'nome_artista'`, `'material'`, `'internacional'`, `'envio_expresso'`, `'instalacao_incluida'`, `'transporte'`, `'fragil'`, `'pedido_extra_cliente'`, `localizacao_remota`.\n",
        "\n",
        "**Datas:**\n",
        "\n",
        "- `'data_agendada'`, `'data_entrega'`.\n",
        "\n",
        "**Alvo:**\n",
        "- `'custo'`."
      ],
      "metadata": {
        "id": "gRCWZHLj-t_C"
      }
    },
    {
      "cell_type": "code",
      "source": [],
      "metadata": {
        "id": "9TpQZNz7ESQt"
      },
      "execution_count": null,
      "outputs": []
    },
    {
      "cell_type": "code",
      "source": [],
      "metadata": {
        "id": "Y6u-UIhnESgb"
      },
      "execution_count": null,
      "outputs": []
    },
    {
      "cell_type": "code",
      "source": [],
      "metadata": {
        "id": "GDOY7wkRES7M"
      },
      "execution_count": null,
      "outputs": []
    },
    {
      "cell_type": "code",
      "source": [],
      "metadata": {
        "id": "Lg4TpBrkETYr"
      },
      "execution_count": null,
      "outputs": []
    },
    {
      "cell_type": "code",
      "source": [],
      "metadata": {
        "id": "VrIjDce6ETvm"
      },
      "execution_count": null,
      "outputs": []
    },
    {
      "cell_type": "code",
      "source": [],
      "metadata": {
        "id": "36nh3YYcEUHw"
      },
      "execution_count": null,
      "outputs": []
    },
    {
      "cell_type": "code",
      "source": [],
      "metadata": {
        "id": "mUnTnjMjEVVp"
      },
      "execution_count": null,
      "outputs": []
    },
    {
      "cell_type": "code",
      "source": [
        "colunas_categoricas = ['id_cliente', 'nome_artista', 'material', 'internacional', 'envio_expresso', 'instalacao_incluida',\n",
        "                       'transporte', 'fragil', 'pedido_extra_cliente','localizacao_remota']\n",
        "\n",
        "for column in colunas_categoricas:\n",
        "    unique_values = df[column].unique()\n",
        "    print(f\"Valores únicos na coluna '{column}' \\n {len(unique_values)} valores:\")\n",
        "    print(unique_values)\n",
        "    print('=='*45)"
      ],
      "metadata": {
        "id": "JqEB0Yd4ElfG"
      },
      "execution_count": null,
      "outputs": []
    },
    {
      "cell_type": "markdown",
      "source": [
        "**ENTENDENDO AS COLUNAS TEXTUAIS**\n",
        "\n",
        "**Categóricas:**\n",
        "\n",
        "- *Valores binários*: `'internacional'`, `'envio_expresso'`, `'instalacao_incluida'`,  `'fragil'`, `'pedido_extra_cliente'`, `'localizacao_remota'`.\n",
        "- *Várias Categorias*:`'material'`, `'transporte'`\n",
        "- *Valores únicos*: `'id_cliente'`, `'nome_artista'`"
      ],
      "metadata": {
        "id": "p-YnC7HCANgq"
      }
    },
    {
      "cell_type": "code",
      "source": [],
      "metadata": {
        "id": "jJLzsfJzEi9y"
      },
      "execution_count": null,
      "outputs": []
    },
    {
      "cell_type": "code",
      "source": [],
      "metadata": {
        "id": "MQ43xy5QEi4Q"
      },
      "execution_count": null,
      "outputs": []
    },
    {
      "cell_type": "code",
      "source": [],
      "metadata": {
        "id": "n-L17DJDEix9"
      },
      "execution_count": null,
      "outputs": []
    },
    {
      "cell_type": "markdown",
      "source": [
        "# Aula 2 - Construindo Árvore de Regressão"
      ],
      "metadata": {
        "id": "l-95Kbeao4BY"
      }
    },
    {
      "cell_type": "code",
      "source": [],
      "metadata": {
        "id": "dEWbsyqfD7Jr"
      },
      "execution_count": null,
      "outputs": []
    },
    {
      "cell_type": "code",
      "source": [],
      "metadata": {
        "id": "SieqmxYAD7D-"
      },
      "execution_count": null,
      "outputs": []
    },
    {
      "cell_type": "code",
      "source": [],
      "metadata": {
        "id": "2z6cUWNND694"
      },
      "execution_count": null,
      "outputs": []
    },
    {
      "cell_type": "code",
      "source": [
        "from sklearn.metrics import mean_absolute_error, mean_squared_error, r2_score\n",
        "\n",
        "print('Métricas conjunto de treino:')\n",
        "print('R²:', r2_score(y_treino, dtr.predict(X_treino)))\n",
        "print('MAE:', mean_absolute_error(y_treino, dtr.predict(X_treino)))\n",
        "print('RMSE:', mean_squared_error(y_treino, dtr.predict(X_treino), squared = False))\n",
        "\n",
        "print('\\n\\nMétricas conjunto de teste:')\n",
        "print('R²:', r2_score(y_teste, dtr.predict(X_teste)))\n",
        "print('MAE:', mean_absolute_error(y_teste, dtr.predict(X_teste)))\n",
        "print('RMSE:', mean_squared_error(y_teste, dtr.predict(X_teste), squared = False))"
      ],
      "metadata": {
        "id": "FTuvef2GDsx5"
      },
      "execution_count": null,
      "outputs": []
    },
    {
      "cell_type": "code",
      "source": [
        "print(f\"Número de nós: {dtr.tree_.node_count}\")\n",
        "print(f\"Número de folhas: {dtr.tree_.n_leaves}\")\n",
        "print(f\"Profundidade máxima: {dtr.tree_.max_depth}\")"
      ],
      "metadata": {
        "id": "vKvD3m2qDxdr"
      },
      "execution_count": null,
      "outputs": []
    },
    {
      "cell_type": "code",
      "source": [],
      "metadata": {
        "id": "SrJoTGybD2Ns"
      },
      "execution_count": null,
      "outputs": []
    },
    {
      "cell_type": "code",
      "source": [],
      "metadata": {
        "id": "EVlqBVGAD2It"
      },
      "execution_count": null,
      "outputs": []
    },
    {
      "cell_type": "code",
      "source": [
        "import matplotlib.pyplot as plt\n",
        "import seaborn as sns\n",
        "\n",
        "features_importancias = pd.DataFrame({'Feature': dtr.feature_names_in_,\n",
        "                                      'Importância': dtr.feature_importances_}).sort_values(by='Importância', ascending=True)\n",
        "\n",
        "plt.figure(figsize=(10, 6))\n",
        "bars = plt.barh(features_importancias['Feature'], features_importancias['Importância'])\n",
        "plt.xlabel('Importância Relativa')\n",
        "plt.title('Importância das Características')\n",
        "\n",
        "plt.show()"
      ],
      "metadata": {
        "id": "BZaVLbPRDn7u"
      },
      "execution_count": null,
      "outputs": []
    },
    {
      "cell_type": "markdown",
      "source": [
        "# Aula 3 - Evitando o overfitting com a otimização"
      ],
      "metadata": {
        "id": "ZHMeFwKQC5vE"
      }
    },
    {
      "cell_type": "markdown",
      "source": [
        "![](https://github.com/Mirlaa/regressao-arvores/blob/main/imagens-projeto/imagem--2.png?raw=true)"
      ],
      "metadata": {
        "id": "Ne7LEg_LpLCg"
      }
    },
    {
      "cell_type": "code",
      "source": [],
      "metadata": {
        "id": "F7-tbQZcDZh-"
      },
      "execution_count": null,
      "outputs": []
    },
    {
      "cell_type": "code",
      "source": [],
      "metadata": {
        "id": "MuyCD6djDZay"
      },
      "execution_count": null,
      "outputs": []
    },
    {
      "cell_type": "code",
      "source": [],
      "metadata": {
        "id": "bgvE5carDZNt"
      },
      "execution_count": null,
      "outputs": []
    },
    {
      "cell_type": "markdown",
      "source": [
        "**VAMOS COMPARAR**\n",
        "\n",
        "![](https://github.com/Mirlaa/regressao-arvores/blob/main/imagens-projeto/imagem-3.png?raw=true)"
      ],
      "metadata": {
        "id": "HygIXZbiDt-1"
      }
    },
    {
      "cell_type": "code",
      "source": [],
      "metadata": {
        "id": "XTTg_DN9DKzN"
      },
      "execution_count": null,
      "outputs": []
    },
    {
      "cell_type": "code",
      "source": [
        "treino_rmse = np.sqrt(-resultados['train_score'])\n",
        "teste_rmse = np.sqrt(-resultados['test_score'])\n",
        "\n",
        "print(\"Treino RMSE em cada fold:\", treino_rmse)\n",
        "print(\"Teste RMSE em cada fold:\", teste_rmse)\n",
        "print(\"\\nMédia do RMSE no treino:\", treino_rmse.mean())\n",
        "print(\"Média do RMSE no teste:\", teste_rmse.mean())"
      ],
      "metadata": {
        "id": "LdZLOyIRDMe5"
      },
      "execution_count": null,
      "outputs": []
    },
    {
      "cell_type": "markdown",
      "source": [
        "# Aula 4 - Implementando uma Floresta Aleatória"
      ],
      "metadata": {
        "id": "ecYqQROLDTDt"
      }
    },
    {
      "cell_type": "code",
      "source": [],
      "metadata": {
        "id": "BUs5v1r9A-uN"
      },
      "execution_count": null,
      "outputs": []
    },
    {
      "cell_type": "code",
      "source": [],
      "metadata": {
        "id": "3TrsVLD2A-ew"
      },
      "execution_count": null,
      "outputs": []
    },
    {
      "cell_type": "markdown",
      "source": [
        "**VAMOS COMPARAR**\n",
        "\n",
        "![](https://github.com/Mirlaa/regressao-arvores/blob/main/imagens-projeto/imagem-4.png?raw=true)"
      ],
      "metadata": {
        "id": "RjDsEnR_FISx"
      }
    },
    {
      "cell_type": "code",
      "source": [],
      "metadata": {
        "id": "7E4NescaBEiT"
      },
      "execution_count": null,
      "outputs": []
    },
    {
      "cell_type": "markdown",
      "source": [
        "# Aula 5 - Buscando a otimização da Floresta Aleatória"
      ],
      "metadata": {
        "id": "ydDWsaP8FmB5"
      }
    },
    {
      "cell_type": "code",
      "source": [],
      "metadata": {
        "id": "WxWGHHtm-yIO"
      },
      "execution_count": null,
      "outputs": []
    },
    {
      "cell_type": "code",
      "source": [],
      "metadata": {
        "id": "LfscTpF5-wYf"
      },
      "execution_count": null,
      "outputs": []
    },
    {
      "cell_type": "code",
      "source": [],
      "metadata": {
        "id": "HKXiwz2B-wSZ"
      },
      "execution_count": null,
      "outputs": []
    },
    {
      "cell_type": "markdown",
      "source": [
        "**VAMOS COMPARAR**\n",
        "\n",
        "![](https://github.com/Mirlaa/regressao-arvores/blob/main/imagens-projeto/imagem-5.png?raw=true)"
      ],
      "metadata": {
        "id": "7pAdEyjyGL_j"
      }
    },
    {
      "cell_type": "code",
      "source": [
        "cv_estrategia = KFold(n_splits=3, shuffle=True, random_state=45)\n",
        "\n",
        "resultados = cross_validate(rfr_otimizado,X,y,scoring='neg_mean_squared_error', cv= cv_estrategia,\n",
        "                            return_train_score=True)\n",
        "\n",
        "treino_rmse = np.sqrt(-resultados['train_score'])\n",
        "teste_rmse = np.sqrt(-resultados['test_score'])\n",
        "\n",
        "print(\"Média do RMSE no treino:\", treino_rmse.mean())\n",
        "print(\"Média do RMSE no teste:\", teste_rmse.mean())"
      ],
      "metadata": {
        "id": "SoXUBTTqDOie"
      },
      "execution_count": null,
      "outputs": []
    },
    {
      "cell_type": "code",
      "source": [],
      "metadata": {
        "id": "kw0opUQt-MW9"
      },
      "execution_count": null,
      "outputs": []
    },
    {
      "cell_type": "code",
      "source": [],
      "metadata": {
        "id": "f218dAvsWnXF"
      },
      "execution_count": null,
      "outputs": []
    }
  ]
}